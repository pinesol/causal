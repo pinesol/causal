{
 "cells": [
  {
   "cell_type": "markdown",
   "metadata": {},
   "source": [
    "# Causal Inference Homework 2\n",
    "## Alex Pine (akp258@nyu.edu)"
   ]
  },
  {
   "cell_type": "markdown",
   "metadata": {},
   "source": [
    "### Problem 1 part i\n",
    "\n",
    "Imagine an experiment where a researcher is comparing the SAT scores of charter school students to those of traditional public school students. The researcher wants to determine if charter schools cause its students to have higher SAT scores. In this experiment, students may choose to take part in a lottery in which the winners will be assigned to a charter school. People who do not enter the lottery, or do not win the lottery, are put into a traditional public school. Let's also imagine that students who inherentely prefer charter schools are more likely to sign up for the charter school lottery than those who have no preference, and are more likely to do well on the SAT if they attend a charter school.\n",
    "\n",
    "Let $Y^0$ be the SAT score of each student when they are not admitted to a charter school, and let $Y^1$ be SAT score of each student when they are admitted into a charter school.\n",
    "\n",
    "$ D = 1 $ if a student chooses to enter the lottery and wins, and $ D = 0 $ otherwise. \n",
    "\n",
    "$ Y^0 \\perp D $, since knowing a student's potential public school SAT score does not tell you anything about if they applied or were selected to go to a charter school. $ Y^1 \\perp D $ for corresponding reasons.\n",
    "\n",
    "However, $ (Y^0, Y^1) \\not\\perp D $, since the difference between $ Y^1 - Y^0 > 0 $ makes it more likely that the student inherently prefers charter schools. That is, $ Y^1 - Y^0 > 0 $ makes $ D = 1 $ more likely than $ D = 0 $. \n"
   ]
  },
  {
   "cell_type": "markdown",
   "metadata": {},
   "source": [
    "### Problem 1 part ii\n",
    "\n",
    "In this scenerio, we could use the fact that $ Y^0 \\perp D $ and $ Y^1 \\perp D $ to compute an the ATE from the naive estimator $ E[Y^*|D=1] - E[Y^*|D=0] $, since \n",
    "\n",
    "\\begin{align} \n",
    "E[Y^*|D=1] - E[Y^*|D=0] &= \\\\\n",
    "E[Y^1|D=1] - E[Y^0|D=0] &= \\\\\n",
    "E[Y^1] - E[Y^0] &= E[\\delta] \n",
    "\\end{align}\n",
    "\n",
    "The same is true for the ATT $ E[\\delta|D=1] = E[Y^1|D=1] - E[Y^0|D=1] $, since\n",
    "\n",
    "\\begin{align} \n",
    "E[Y^*|D=1] - E[Y^*|D=0] &= \\\\\n",
    "E[Y^1|D=1] - E[Y^0|D=0] &= \\\\\n",
    "E[Y^1|D=1] - E[Y^0|D=1] &= E[\\delta|D=1] \n",
    "\\end{align}\n",
    "\n",
    "The same is also true for the ATC $ E[\\delta|D=0] = E[Y^1|D=0] - E[Y^0|D=0] $, since\n",
    "\n",
    "\\begin{align} \n",
    "E[Y^*|D=1] - E[Y^*|D=0] &= \\\\\n",
    "E[Y^1|D=1] - E[Y^0|D=0] &= \\\\\n",
    "E[Y^1|D=0] - E[Y^0|D=0] &= E[\\delta|D=0] \n",
    "\\end{align}"
   ]
  },
  {
   "cell_type": "markdown",
   "metadata": {},
   "source": [
    "### Problem 2\n",
    "\n",
    "let $Y = (Y^0, Y^1)$. Unconfoundedness ($Y \\perp D | X$) gives us $p(Y,D|X) = p(Y|X)p(D|X)$. \n",
    "\n",
    "Since $X \\perp D$, $p(Y|X)p(D|X) = p(Y|X)p(D)$. \n",
    "\n",
    "Using Bayes' rule, $p(Y,D|X) = \\frac{p(Y,D)}{p(X)} $.\n",
    "\n",
    "Equating the previous two expressions, we get $\\frac{p(Y,D)}{p(X)} = p(Y|X)p(D)$\n",
    "\n",
    "Multiplying through by $p(X)$ and using Bayes' rule again, we get $p(Y,D) = p(Y)p(D)$, which implies $Y \\perp D$."
   ]
  },
  {
   "cell_type": "markdown",
   "metadata": {},
   "source": [
    "### Problem 3\n",
    "\n",
    "#### (i) Compute the average treatment effect assuming full randomization\n",
    "If we assume full randomization of the assignment mechanism, the naive estimator is an unbiased estimator of the average treatment effect."
   ]
  },
  {
   "cell_type": "code",
   "execution_count": 3,
   "metadata": {
    "collapsed": false
   },
   "outputs": [],
   "source": [
    "treatedData = \"/Users/pinesol/causal/hw2/nsw_treated.csv\"\n",
    "controlData = \"/Users/pinesol/causal/hw2/nsw_control.csv\"\n",
    "\n",
    "data1 = read.table(treatedData, header=TRUE, sep=',')\n",
    "data0 = read.table(controlData, header=TRUE, sep=',')\n",
    "names(data1) = c(\"treatment indicator\", \"age\", \"education\", \"Black\", \"Hispanic\", \n",
    "                 \"married\", \"nodegree\", \"earnings in 1975\", \"earnings in 1978\")\n",
    "names(data0) = c(\"treatment indicator\", \"age\", \"education\", \"Black\", \"Hispanic\", \n",
    "                 \"married\", \"nodegree\", \"earnings in 1975\", \"earnings in 1978\")"
   ]
  },
  {
   "cell_type": "code",
   "execution_count": 4,
   "metadata": {
    "collapsed": false
   },
   "outputs": [
    {
     "name": "stdout",
     "output_type": "stream",
     "text": [
      "[1] \"Average Treatment Effect:  846.88828668576\"\n"
     ]
    }
   ],
   "source": [
    "# earnings diff for those who were treated\n",
    "y1 = data1[[\"earnings in 1978\"]] - data1[[\"earnings in 1975\"]]\n",
    "# earnings diff for those who were not treated\n",
    "y0 = data0[[\"earnings in 1978\"]] - data0[[\"earnings in 1975\"]]\n",
    "# take the difference between their averages\n",
    "ate = mean(y1) - mean(y0)\n",
    "print(paste(\"Average Treatment Effect: \", ate))"
   ]
  },
  {
   "cell_type": "markdown",
   "metadata": {},
   "source": [
    "The average treatment effect, assuming a fully random assignment mechanism, is 846.89."
   ]
  },
  {
   "cell_type": "markdown",
   "metadata": {},
   "source": [
    "#### Partition the data by martial status.\n",
    "\n",
    "Code is below:"
   ]
  },
  {
   "cell_type": "code",
   "execution_count": 17,
   "metadata": {
    "collapsed": false
   },
   "outputs": [],
   "source": [
    "data1_married = data1[data1[, \"married\"] == 1,, drop=FALSE]\n",
    "data1_unmarried = data1[data1[, \"married\"] == 0,, drop=FALSE]\n",
    "\n",
    "data0_married = data0[data0[, \"married\"] == 1,, drop=FALSE]\n",
    "data0_unmarried = data0[data0[, \"married\"] == 0,, drop=FALSE]"
   ]
  },
  {
   "cell_type": "markdown",
   "metadata": {},
   "source": [
    "#### (ii) Argue why it may make sense to make this weaker assumption rather than the stronger assumption of full randomization.\n",
    "\n",
    "Computing an unbiased ATE estimator does not require $Y^0$ and $Y^1$ to be jointly independent of $D$. All you need is for each of them to be individually dependent of $D$, and the naive estimator is unbiased, as illustrated here:\n",
    "\n",
    "Naive ATE = $E[Y|D=1] - E[Y|D=0] = E[Y^1|D=1] - E[Y^0|D=0] = E[Y^1] - E[Y^0] = $ ATE.\n",
    "\n",
    "Given this, there is no need to make the stronger assumption for this data."
   ]
  },
  {
   "cell_type": "markdown",
   "metadata": {},
   "source": [
    "#### (iii) Compute the propensity score.\n",
    "\n",
    "The propensity score is the probability of being in the treatment group conditioned on being a covariate. So join the data, find all the ones who are married, and see what percent were treated."
   ]
  },
  {
   "cell_type": "code",
   "execution_count": 18,
   "metadata": {
    "collapsed": false
   },
   "outputs": [
    {
     "name": "stdout",
     "output_type": "stream",
     "text": [
      "[1] \"Propensity score for married individuals:  0.427350427350427\"\n",
      "[1] \"Propensity score for unmarried individuals:  0.408264462809917\"\n"
     ]
    }
   ],
   "source": [
    "num_married_chosen = sum(data1_married[\"treatment indicator\"] == 1)\n",
    "num_married_notchosen = sum(data0_married[\"treatment indicator\"] == 0)\n",
    "prop_score_married = num_married_chosen / (num_married_chosen + num_married_notchosen)\n",
    "\n",
    "num_unmarried_chosen = sum(data1_unmarried[\"treatment indicator\"] == 1)\n",
    "num_unmarried_notchosen = sum(data0_unmarried[\"treatment indicator\"] == 0)\n",
    "prop_score_unmarried = num_unmarried_chosen / (num_unmarried_chosen + num_unmarried_notchosen)\n",
    "\n",
    "print(paste(\"Propensity score for married individuals: \", prop_score_married))\n",
    "print(paste(\"Propensity score for unmarried individuals: \", prop_score_unmarried))"
   ]
  },
  {
   "cell_type": "markdown",
   "metadata": {},
   "source": [
    "As calculated above, the propensity score is 0.43 for married individuals, and 0.41 for unmarried individuals."
   ]
  },
  {
   "cell_type": "markdown",
   "metadata": {},
   "source": [
    "#### (iv) Compute the average treatment effect assuming unconfoundedness\n",
    "\n",
    "Using $ATE = E[ATE[X]] = p(x = 1)ATE(x = 1) + p(x = 0)ATE(x = 0)$, where $x$ is maritial status.\n"
   ]
  },
  {
   "cell_type": "code",
   "execution_count": 28,
   "metadata": {
    "collapsed": false
   },
   "outputs": [
    {
     "name": "stdout",
     "output_type": "stream",
     "text": [
      "[1] \"Average Treatment Effect (married):  3767.20496677612\"\n",
      "[1] \"Average Treatment Effect (unmarried):  302.81488260964\"\n",
      "[1] \"Average Treatment Effect:  864.218815916396\"\n"
     ]
    }
   ],
   "source": [
    "num_married = nrow(data1_married) + nrow(data0_married)\n",
    "num_unmarried = nrow(data1_unmarried) + nrow(data0_unmarried)\n",
    "p_married = num_married / (num_married + num_unmarried)\n",
    "p_unmarried = 1 - p_married\n",
    "\n",
    "y1_married = data1_married[[\"earnings in 1978\"]] - data1_married[[\"earnings in 1975\"]]\n",
    "y0_married = data0_married[[\"earnings in 1978\"]] - data0_married[[\"earnings in 1975\"]]\n",
    "ate_married = mean(y1_married) - mean(y0_married)\n",
    "print(paste(\"Average Treatment Effect (married): \", ate_married))\n",
    "\n",
    "y1_unmarried = data1_unmarried[[\"earnings in 1978\"]] - data1_unmarried[[\"earnings in 1975\"]]\n",
    "y0_unmarried = data0_unmarried[[\"earnings in 1978\"]] - data0_unmarried[[\"earnings in 1975\"]]\n",
    "ate_unmarried = mean(y1_unmarried) - mean(y0_unmarried)\n",
    "print(paste(\"Average Treatment Effect (unmarried): \", ate_unmarried))\n",
    "\n",
    "ate = p_married*ate_married + p_unmarried*ate_unmarried\n",
    "print(paste(\"Average Treatment Effect: \", ate))"
   ]
  },
  {
   "cell_type": "markdown",
   "metadata": {},
   "source": [
    "As shown above, the average treatment effect, after conditioning on martial status, was 864.22."
   ]
  }
 ],
 "metadata": {
  "kernelspec": {
   "display_name": "R",
   "language": "R",
   "name": "ir"
  },
  "language_info": {
   "codemirror_mode": "r",
   "file_extension": ".r",
   "mimetype": "text/x-r-source",
   "name": "R",
   "pygments_lexer": "r",
   "version": "3.3.2"
  }
 },
 "nbformat": 4,
 "nbformat_minor": 0
}
