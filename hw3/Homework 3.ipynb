{
 "cells": [
  {
   "cell_type": "markdown",
   "metadata": {},
   "source": [
    "# Causal Inference Homework 3\n",
    "## Alex Pine (akp258@nyu.edu)\n",
    "## February 26th"
   ]
  },
  {
   "cell_type": "markdown",
   "metadata": {},
   "source": [
    "### 1a \n",
    "Perfect randomization, so ATE $= E[Y^1] - E[Y^0] = 1 - 0.5 = 0.5$"
   ]
  },
  {
   "cell_type": "markdown",
   "metadata": {},
   "source": [
    "### 1b\n",
    "\n",
    "The asymptotic value of $E[Y^1]$ and $E[Y^0]$ are not dependent on the exact size of the population. If 10% of students from both the control and treatment groups leave the program, we can treat them as if there were never in the program to begin with.  Since our estimation of ATE is based on the expected values of $Y^0$ and $Y^1$ of the population, 10% random attrition from both groups has no effect.  "
   ]
  },
  {
   "cell_type": "markdown",
   "metadata": {},
   "source": [
    "### 1c\n",
    "\n",
    "If students leave the program when their potential scores are greater than 1.6, then that puts an upper bound on $Y^0$ and $Y^1$. Since $Y^0$ was already bounded from above by 1, only $Y^1$ is affected. Now, $Y^1 \\sim ([0,1.6])$.\n",
    "\n",
    "ATE $= E[Y^1] - E[Y^0] = 0.8 - 0.5 = 0.3 $\n"
   ]
  },
  {
   "cell_type": "markdown",
   "metadata": {},
   "source": [
    "### 1d\n",
    "\n",
    "If the top 20% leave the program, then $Y^1 \\sim U([0, 1.6])$ and $Y^0 \\sim U([0, 0.8])$.\n",
    "\n",
    "ATE $= E[Y1] - E[Y0] = \\frac{1.6}{2} - \\frac{0.8}{2} = 0.8 - 0.4 = 0.4$.\n",
    "\n"
   ]
  },
  {
   "cell_type": "markdown",
   "metadata": {},
   "source": [
    "# Problem 2"
   ]
  },
  {
   "cell_type": "markdown",
   "metadata": {},
   "source": [
    "Reducing the data down to only those who were in the same class size for all four years:"
   ]
  },
  {
   "cell_type": "code",
   "execution_count": 42,
   "metadata": {
    "collapsed": false
   },
   "outputs": [],
   "source": [
    "data = read.csv(\"/Users/pinesol/causal/hw3/krueger.csv\")\n",
    "# Take out the NAs. Leaves only 3085 rows out of 11598\n",
    "data = data[complete.cases(subset(data, select=c('cltypek', 'cltype1', 'cltype2', 'cltype3'))),]\n",
    "# Make sure the four class columns all have the same value in each row\n",
    "data = data[data$cltypek == data$cltype1 | data$cltypek == data$cltype2 | data$cltypek == data$cltype3,]\n",
    "\n",
    "# Remove NAs from scores\n",
    "score_cols = c('tmathssk', 'tmathss1', 'tmathss2', 'tmathss3', 'treadssk', 'treadss1', 'treadss2', 'treadss3')\n",
    "data[score_cols][is.na(data[score_cols])] <- 0"
   ]
  },
  {
   "cell_type": "markdown",
   "metadata": {},
   "source": [
    "Computing the percentile scores for the students who were in in 'regular' or 'regular + aide' sized classes:"
   ]
  },
  {
   "cell_type": "code",
   "execution_count": 43,
   "metadata": {
    "collapsed": false
   },
   "outputs": [],
   "source": [
    "# ... for each grade, compute the percentile(ranging from 0 to 100) using only students \n",
    "# in 'regular size' and 'regular with aide size' class types.\n",
    "percentile <- function(scores) {\n",
    "    return(100 * rank(scores) / length(scores))\n",
    "}\n",
    "\n",
    "reg_rows = data[data['cltypek']  == 'regular class' | data['cltypek']  == 'regular + aide class',]\n",
    "\n",
    "reg_math_k = percentile(reg_rows[['tmathssk']])\n",
    "reg_read_k = percentile(reg_rows[['treadssk']])\n",
    "reg_avg_k = (reg_math_k + reg_read_k) / 2\n",
    "reg_math_1 = percentile(reg_rows[['tmathss1']])\n",
    "reg_read_1 = percentile(reg_rows[['treadss1']])\n",
    "reg_avg_1 = (reg_math_1 + reg_read_1) / 2\n",
    "reg_math_2 = percentile(reg_rows[['tmathss2']])\n",
    "reg_read_2 = percentile(reg_rows[['treadss2']])\n",
    "reg_avg_2 = (reg_math_2 + reg_read_2) / 2\n",
    "reg_math_3 = percentile(reg_rows[['tmathss3']])\n",
    "reg_read_3 = percentile(reg_rows[['treadss3']])\n",
    "reg_avg_3 = (reg_math_3 + reg_read_3) / 2"
   ]
  },
  {
   "cell_type": "markdown",
   "metadata": {},
   "source": [
    "Computing the percentile score for students in small classes using the percentile distribution for the students in large classes:"
   ]
  },
  {
   "cell_type": "code",
   "execution_count": 44,
   "metadata": {
    "collapsed": true
   },
   "outputs": [],
   "source": [
    "# \"Compute percentile score for students in small classes using the percentiles just computed\".\n",
    "\n",
    "small_percentiles <- function(small_scores, reg_scores) {\n",
    "    small_percs = vector(\"list\", length(small_scores))\n",
    "    for (i in 1:length(small_scores)) {\n",
    "        perc = 100*length(reg_scores[reg_scores <= small_scores[[i]]]) / length(reg_scores)\n",
    "        small_percs[[i]] = perc\n",
    "    }\n",
    "    return(unlist(small_percs))\n",
    "}\n",
    "\n",
    "small_rows = data[data['cltypek']  == 'small class',]\n",
    "\n",
    "small_math_k = small_percentiles(small_rows[['tmathssk']], reg_rows[['tmathssk']])\n",
    "small_read_k = small_percentiles(small_rows[['treadssk']], reg_rows[['treadssk']])\n",
    "small_avg_k = (small_math_k + small_read_k) / 2\n",
    "small_math_1 = small_percentiles(small_rows[['tmathss1']], reg_rows[['tmathss1']])\n",
    "small_read_1 = small_percentiles(small_rows[['treadss1']], reg_rows[['treadss1']])\n",
    "small_avg_1 = (small_math_1 + small_read_1) / 2\n",
    "small_math_2 = small_percentiles(small_rows[['tmathss2']], reg_rows[['tmathss2']])\n",
    "small_read_2 = small_percentiles(small_rows[['treadss2']], reg_rows[['treadss2']])\n",
    "small_avg_2 = (small_math_2 + small_read_2) / 2\n",
    "small_math_3 = small_percentiles(small_rows[['tmathss3']], reg_rows[['tmathss3']])\n",
    "small_read_3 = small_percentiles(small_rows[['treadss3']], reg_rows[['treadss3']])\n",
    "small_avg_3 = (small_math_3 + small_read_3) / 2"
   ]
  },
  {
   "cell_type": "markdown",
   "metadata": {},
   "source": [
    "Wrote a function to merge the percentile scores regular and small class sizes together so their order matches the order from the original data frame. I'm sure R has a way to do this, but I could not figure it out. "
   ]
  },
  {
   "cell_type": "code",
   "execution_count": 45,
   "metadata": {
    "collapsed": true
   },
   "outputs": [],
   "source": [
    "merge_by_index <- function(a, b, a_index, b_index) {\n",
    "    merged = c()\n",
    "    i = 1\n",
    "    j = 1\n",
    "    while(i <= length(a_index) && j <= length(b_index)) {\n",
    "        if (a_index[i] < b_index[j]) {\n",
    "            merged = c(merged, a[i])\n",
    "            i = i + 1\n",
    "        } else {\n",
    "            merged = c(merged, b[j])\n",
    "            j = j + 1\n",
    "        }\n",
    "    }\n",
    "    if (i <= length(a_index)) {\n",
    "        merged = c(merged, a[i:length(a)])\n",
    "    }\n",
    "    if (j <= length(b_index)) {\n",
    "        merged = c(merged, b[j:length(b)])\n",
    "    } \n",
    "    return(merged)\n",
    "}\n",
    "\n",
    "merge_scores <- function(reg_scores, small_scores) {\n",
    "    reg_index = as.numeric(row.names(reg_rows))\n",
    "    small_index = as.numeric(row.names(small_rows))\n",
    "    return(merge_by_index(reg_scores, small_scores, reg_index, small_index))\n",
    "}"
   ]
  },
  {
   "cell_type": "code",
   "execution_count": 46,
   "metadata": {
    "collapsed": false
   },
   "outputs": [],
   "source": [
    "merged_k_scores = merge_scores(reg_avg_k, small_avg_k)\n",
    "merged_1_scores = merge_scores(reg_avg_1, small_avg_1)\n",
    "merged_2_scores = merge_scores(reg_avg_2, small_avg_2)\n",
    "merged_3_scores = merge_scores(reg_avg_3, small_avg_3)"
   ]
  },
  {
   "cell_type": "markdown",
   "metadata": {},
   "source": [
    "Performing the regression for kindergarden:"
   ]
  },
  {
   "cell_type": "code",
   "execution_count": 47,
   "metadata": {
    "collapsed": false
   },
   "outputs": [
    {
     "name": "stdout",
     "output_type": "stream",
     "text": [
      "These series are constants and have been removed: stark, star1, star2, star3\n"
     ]
    },
    {
     "data": {
      "text/plain": [
       "Oneway (individual) effect Within Model\n",
       "\n",
       "Call:\n",
       "plm(formula = merged_k_scores ~ aide.f + small.f, data = data, \n",
       "    model = \"within\", index = c(\"schidkn\"))\n",
       "\n",
       "Unbalanced Panel: n=75, T=4-59, N=2043\n",
       "\n",
       "Residuals :\n",
       "   Min. 1st Qu.  Median 3rd Qu.    Max. \n",
       " -60.20  -20.70    1.88   22.00   56.50 \n",
       "\n",
       "Coefficients :\n",
       "            Estimate Std. Error t-value Pr(>|t|)    \n",
       "aide.fTRUE    0.3074     1.6559  0.1856   0.8527    \n",
       "small.fTRUE   7.5747     1.4870  5.0941 3.84e-07 ***\n",
       "---\n",
       "Signif. codes:  0 ‘***’ 0.001 ‘**’ 0.01 ‘*’ 0.05 ‘.’ 0.1 ‘ ’ 1\n",
       "\n",
       "Total Sum of Squares:    1471100\n",
       "Residual Sum of Squares: 1444200\n",
       "R-Squared:      0.01826\n",
       "Adj. R-Squared: -0.019691\n",
       "F-statistic: 18.2836 on 2 and 1966 DF, p-value: 1.3567e-08"
      ]
     },
     "metadata": {},
     "output_type": "display_data"
    }
   ],
   "source": [
    "require(plm)\n",
    "\n",
    "aide.f = factor(data['cltypek'] == 'regular + aide class')\n",
    "small.f = factor(data['cltypek'] == 'small class')\n",
    "\n",
    "summary(plm(merged_k_scores ~ aide.f + small.f, data=data, index=c('schidkn'), model='within'))"
   ]
  },
  {
   "cell_type": "markdown",
   "metadata": {},
   "source": [
    "1st grade regression:"
   ]
  },
  {
   "cell_type": "code",
   "execution_count": 48,
   "metadata": {
    "collapsed": false
   },
   "outputs": [
    {
     "name": "stdout",
     "output_type": "stream",
     "text": [
      "These series are constants and have been removed: stark, star1, star2, star3\n"
     ]
    },
    {
     "data": {
      "text/plain": [
       "Oneway (individual) effect Within Model\n",
       "\n",
       "Call:\n",
       "plm(formula = merged_1_scores ~ aide.f + small.f, data = data, \n",
       "    model = \"within\", index = c(\"schid1n\"))\n",
       "\n",
       "Unbalanced Panel: n=75, T=4-58, N=2043\n",
       "\n",
       "Residuals :\n",
       "   Min. 1st Qu.  Median 3rd Qu.    Max. \n",
       "-61.200 -20.100   0.387  22.100  55.500 \n",
       "\n",
       "Coefficients :\n",
       "            Estimate Std. Error t-value  Pr(>|t|)    \n",
       "aide.fTRUE   0.23075    1.61386  0.1430    0.8863    \n",
       "small.fTRUE  9.69406    1.42821  6.7876 1.505e-11 ***\n",
       "---\n",
       "Signif. codes:  0 ‘***’ 0.001 ‘**’ 0.01 ‘*’ 0.05 ‘.’ 0.1 ‘ ’ 1\n",
       "\n",
       "Total Sum of Squares:    1416500\n",
       "Residual Sum of Squares: 1372000\n",
       "R-Squared:      0.031429\n",
       "Adj. R-Squared: -0.0060132\n",
       "F-statistic: 31.8973 on 2 and 1966 DF, p-value: 2.3292e-14"
      ]
     },
     "metadata": {},
     "output_type": "display_data"
    }
   ],
   "source": [
    "aide.f = factor(data['cltype1'] == 'regular + aide class')\n",
    "small.f = factor(data['cltype1'] == 'small class')\n",
    "\n",
    "summary(plm(merged_1_scores ~ aide.f + small.f, data=data, index=c('schid1n'), model='within'))"
   ]
  },
  {
   "cell_type": "markdown",
   "metadata": {},
   "source": [
    "2nd grade regression:"
   ]
  },
  {
   "cell_type": "code",
   "execution_count": 49,
   "metadata": {
    "collapsed": false
   },
   "outputs": [
    {
     "name": "stdout",
     "output_type": "stream",
     "text": [
      "These series are constants and have been removed: stark, star1, star2, star3\n"
     ]
    },
    {
     "data": {
      "text/plain": [
       "Oneway (individual) effect Within Model\n",
       "\n",
       "Call:\n",
       "plm(formula = merged_2_scores ~ aide.f + small.f, data = data, \n",
       "    model = \"within\", index = c(\"schid2n\"))\n",
       "\n",
       "Unbalanced Panel: n=75, T=4-59, N=2043\n",
       "\n",
       "Residuals :\n",
       "   Min. 1st Qu.  Median 3rd Qu.    Max. \n",
       " -59.90  -20.50    1.01   22.90   56.30 \n",
       "\n",
       "Coefficients :\n",
       "            Estimate Std. Error t-value  Pr(>|t|)    \n",
       "aide.fTRUE    1.7089     1.6738  1.0210    0.3074    \n",
       "small.fTRUE   7.2492     1.5126  4.7924 1.772e-06 ***\n",
       "---\n",
       "Signif. codes:  0 ‘***’ 0.001 ‘**’ 0.01 ‘*’ 0.05 ‘.’ 0.1 ‘ ’ 1\n",
       "\n",
       "Total Sum of Squares:    1464900\n",
       "Residual Sum of Squares: 1444400\n",
       "R-Squared:      0.013945\n",
       "Adj. R-Squared: -0.024173\n",
       "F-statistic: 13.9019 on 2 and 1966 DF, p-value: 1.0111e-06"
      ]
     },
     "metadata": {},
     "output_type": "display_data"
    }
   ],
   "source": [
    "aide.f = factor(data['cltype2'] == 'regular + aide class')\n",
    "small.f = factor(data['cltype2'] == 'small class')\n",
    "\n",
    "summary(plm(merged_2_scores ~ aide.f + small.f, data=data, index=c('schid2n'), model='within'))"
   ]
  },
  {
   "cell_type": "markdown",
   "metadata": {},
   "source": [
    "3rd grade regression:"
   ]
  },
  {
   "cell_type": "code",
   "execution_count": 51,
   "metadata": {
    "collapsed": false
   },
   "outputs": [
    {
     "name": "stdout",
     "output_type": "stream",
     "text": [
      "These series are constants and have been removed: stark, star1, star2, star3\n"
     ]
    },
    {
     "data": {
      "text/plain": [
       "Oneway (individual) effect Within Model\n",
       "\n",
       "Call:\n",
       "plm(formula = merged_3_scores ~ aide.f + small.f, data = data, \n",
       "    model = \"within\", index = c(\"schid3n\"))\n",
       "\n",
       "Unbalanced Panel: n=75, T=6-56, N=2043\n",
       "\n",
       "Residuals :\n",
       "   Min. 1st Qu.  Median 3rd Qu.    Max. \n",
       "-60.100 -21.700   0.863  22.200  57.700 \n",
       "\n",
       "Coefficients :\n",
       "            Estimate Std. Error t-value  Pr(>|t|)    \n",
       "aide.fTRUE    2.0787     1.7185  1.2096    0.2266    \n",
       "small.fTRUE   8.1175     1.5776  5.1454 2.935e-07 ***\n",
       "---\n",
       "Signif. codes:  0 ‘***’ 0.001 ‘**’ 0.01 ‘*’ 0.05 ‘.’ 0.1 ‘ ’ 1\n",
       "\n",
       "Total Sum of Squares:    1472700\n",
       "Residual Sum of Squares: 1448200\n",
       "R-Squared:      0.01667\n",
       "Adj. R-Squared: -0.021343\n",
       "F-statistic: 16.6646 on 2 and 1966 DF, p-value: 6.6577e-08"
      ]
     },
     "metadata": {},
     "output_type": "display_data"
    }
   ],
   "source": [
    "aide.f = factor(data['cltype3'] == 'regular + aide class')\n",
    "small.f = factor(data['cltype3'] == 'small class')\n",
    "\n",
    "summary(plm(merged_3_scores ~ aide.f + small.f, data=data, index=c('schid3n'), model='within'))"
   ]
  },
  {
   "cell_type": "markdown",
   "metadata": {},
   "source": [
    "Looking at these statistics, it appears that small class size is a statistically significant predictor of test scores."
   ]
  }
 ],
 "metadata": {
  "kernelspec": {
   "display_name": "R",
   "language": "R",
   "name": "ir"
  },
  "language_info": {
   "codemirror_mode": "r",
   "file_extension": ".r",
   "mimetype": "text/x-r-source",
   "name": "R",
   "pygments_lexer": "r",
   "version": "3.3.2"
  }
 },
 "nbformat": 4,
 "nbformat_minor": 1
}
