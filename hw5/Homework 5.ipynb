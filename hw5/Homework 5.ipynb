{
 "cells": [
  {
   "cell_type": "markdown",
   "metadata": {},
   "source": [
    "# Homework 5\n",
    "## Alex Pine (akp258@nyu.edu)\n"
   ]
  },
  {
   "cell_type": "markdown",
   "metadata": {},
   "source": [
    "### Question 1\n",
    "\n",
    "Let $K_i \\triangleq K\\big(\\frac{x_i - \\bar{x}}{h}\\big) $ and let $I_i \\triangleq 1\\{x_i \\ge \\bar{x}\\}$. Then $1-I_i = 1\\{x_i \\lt \\bar{x}\\}$.\n",
    "\n",
    "The pair of local linear regressions we would use in a discontinuity analysis would be:\n",
    "\n",
    "$$ \\alpha^1, \\beta^1 = \\displaystyle\\min_{\\alpha^1, \\beta^1}\\sum_{i} K_i I_i (y_i - \\alpha^1 - \\beta^1 x_i)^2 $$\n",
    "and\n",
    "$$ \\alpha^0, \\beta^0 = \\displaystyle\\min_{\\alpha^0, \\beta^0}\\sum_{i} K_i (1-I_i) (y_i - \\alpha^0 - \\beta^0 x_i)^2 $$\n",
    "\n",
    "The values for $ \\alpha^1, \\beta^1, \\alpha^0, \\beta^0 $ that results from these two minimization expressions will also result from their sum:\n",
    "\n",
    "$$ \\alpha^0, \\beta^0, \\alpha^1, \\beta^1 = \\displaystyle\\min_{\\alpha^0, \\beta^0, \\alpha^1, \\beta^1} \\sum_{i} K_i I_i (y_i - \\alpha^1 - \\beta^1 x_i)^2 + \\sum_{i} K_i (1-I_i) (y_i - \\alpha^0 - \\beta^0 x_i)^2$$\n",
    "\n",
    "Collecting terms, we get\n",
    "\n",
    "$$ \\alpha^0, \\beta^0, \\alpha^1, \\beta^1 = \\displaystyle\\min_{\\alpha^0, \\beta^0, \\alpha^1, \\beta^1} \\sum_{i} K_i \\big( I_i (y_i - \\alpha^1 - \\beta^1 x_i)^2 + (1-I_i) (y_i - \\alpha^0 - \\beta^0 x_i)^2 \\big) $$\n",
    "\n",
    "Let's call the expression in the big parantheses $C_i$:\n",
    "\n",
    "$$ C_i \\triangleq I_i (y_i - \\alpha^1 - \\beta^1 x_i)^2 + (1-I_i) (y_i - \\alpha^0 - \\beta^0 x_i)^2 $$\n",
    "\n",
    "If $I_i = 1$, then $ C_i = (y_i - \\alpha^1 - \\beta^1 x_i)^2 $. If $I_i = 0$, then $ C_i = (y_i - \\alpha^0 - \\beta^0 x_i)^2 $.\n",
    "\n",
    "Let's define a new expression $D_i$:\n",
    "\n",
    "$$ D_i \\triangleq (y_i - \\alpha^1 I_i - \\beta^1 x_i I_i - \\alpha^0 I_i - \\beta^0 x_i I_i)^2 $$\n",
    "\n",
    "Notice that if $I_i = 1$, then $ D_i = (y_i - \\alpha^1 - \\beta^1 x_i)^2 $, and if $I_i = 0$, $ D_i = (y_i - \\alpha^0 - \\beta^0 x_i)^2 $. Therefore $D_i = C_i$. This means that our original expression for $ \\alpha^0, \\beta^0, \\alpha^1, \\beta^1$ is equal to:\n",
    "\n",
    "$$ \\alpha^0, \\beta^0, \\alpha^1, \\beta^1 = \\displaystyle\\min_{\\alpha^0, \\beta^0, \\alpha^1, \\beta^1} \\sum_{i} K_i \\big(y_i - \\alpha^1 I_i - \\beta^1 x_i I_i - \\alpha^0 I_i - \\beta^0 x_i I_i \\big)^2 $$\n",
    "\n",
    "This is what we were trying to show. QED."
   ]
  },
  {
   "cell_type": "markdown",
   "metadata": {},
   "source": [
    "## Problem 2\n",
    "\n",
    "The data we're intested in is the total number of teachers who attended school each day of the month.\n",
    "I'm making two local linear regressions. The 'left' regression where we treat the 31st as the $\\bar{x}$, and the 'right' regression is where we treat the 1st of the moth as $\\bar{x}$.\n",
    "\n",
    "First, I'll graph this data without doing any regression:"
   ]
  },
  {
   "cell_type": "code",
   "execution_count": 6,
   "metadata": {
    "collapsed": false
   },
   "outputs": [],
   "source": [
    "data = \"/Users/pinesol/causal/hw5/HannaDufloRyan.csv\"\n",
    "\n",
    "import pandas\n",
    "df = pandas.read_csv(data)"
   ]
  },
  {
   "cell_type": "code",
   "execution_count": 11,
   "metadata": {
    "collapsed": false
   },
   "outputs": [],
   "source": [
    "# remove holiday rows\n",
    "df = df[df.holiday != 1]\n",
    "days = df.day\n",
    "worked = df.worked"
   ]
  },
  {
   "cell_type": "code",
   "execution_count": 15,
   "metadata": {
    "collapsed": false
   },
   "outputs": [],
   "source": [
    "%matplotlib inline\n",
    "\n",
    "import matplotlib\n",
    "import matplotlib.pyplot as plt"
   ]
  },
  {
   "cell_type": "code",
   "execution_count": 38,
   "metadata": {
    "collapsed": false
   },
   "outputs": [],
   "source": [
    "days_worked = df.groupby(['day'])['worked'].sum()"
   ]
  },
  {
   "cell_type": "markdown",
   "metadata": {},
   "source": [
    "Doubling this data clearly shows the discontinuity between the end and first of the month (the zero value):"
   ]
  },
  {
   "cell_type": "code",
   "execution_count": 371,
   "metadata": {
    "collapsed": false
   },
   "outputs": [
    {
     "data": {
      "text/plain": [
       "<matplotlib.text.Text at 0x117753350>"
      ]
     },
     "execution_count": 371,
     "metadata": {},
     "output_type": "execute_result"
    },
    {
     "data": {
      "image/png": "[encoded data removed]",
      "text/plain": [
       "<matplotlib.figure.Figure at 0x116d91c90>"
      ]
     },
     "metadata": {},
     "output_type": "display_data"
    }
   ],
   "source": [
    "plt.plot(days-32, days_worked)\n",
    "plt.plot(days-1, days_worked)\n",
    "plt.xlabel('Day of the month')\n",
    "plt.ylabel('Days worked')\n",
    "plt.title('Total number of days worked per day of the month')"
   ]
  },
  {
   "cell_type": "markdown",
   "metadata": {},
   "source": [
    "Next, I'll make the 'right' regression, where we don't consider points from the previous month in the regression. I'll use a bandwidth of 4, as specified in the problem. Instead of modifying the Gaussian kernel to consider the first of the month as the zero point, I'll equivalently shift over the day intercepts by one, so the 1st of the month is 0, the second day is 1, etc."
   ]
  },
  {
   "cell_type": "code",
   "execution_count": 364,
   "metadata": {
    "collapsed": true
   },
   "outputs": [],
   "source": [
    "import statsmodels.api as sm\n",
    "import math\n",
    "\n",
    "def kernel(z):\n",
    "    return math.exp(-(z*z)/2)\n",
    "\n",
    "bandwidth = 4"
   ]
  },
  {
   "cell_type": "code",
   "execution_count": 365,
   "metadata": {
    "collapsed": false
   },
   "outputs": [],
   "source": [
    "right_days = days - 1\n",
    "X = right_days\n",
    "X = sm.add_constant(X)\n",
    "Y = days_worked\n",
    "\n",
    "right_weights = [kernel((x)/bandwidth) for x in X[:,1]]\n",
    "right_model = sm.WLS(Y, X, weights=right_weights).fit()"
   ]
  },
  {
   "cell_type": "code",
   "execution_count": 366,
   "metadata": {
    "collapsed": false
   },
   "outputs": [
    {
     "data": {
      "text/plain": [
       "456.80451026081948"
      ]
     },
     "execution_count": 366,
     "metadata": {},
     "output_type": "execute_result"
    }
   ],
   "source": [
    "right_intercept = right_model.params[0]\n",
    "right_intercept"
   ]
  },
  {
   "cell_type": "markdown",
   "metadata": {},
   "source": [
    "As shown above, the 0-intercept for the right regression is 456.8."
   ]
  },
  {
   "cell_type": "markdown",
   "metadata": {},
   "source": [
    "Now I will do the 'left' regression, where we consider all the data points to have come from before the first of the month. Since the 31st is the last day of the month, it gets set to -1, the 30th to -2, etc."
   ]
  },
  {
   "cell_type": "code",
   "execution_count": 367,
   "metadata": {
    "collapsed": false
   },
   "outputs": [],
   "source": [
    "left_days = days - 32\n",
    "\n",
    "X = left_days\n",
    "X = sm.add_constant(X)\n",
    "Y = worked\n",
    "weights = [kernel((x)/bandwidth) for x in X[:,1]]\n",
    "left_model = sm.WLS(Y, X, weights=weights).fit()"
   ]
  },
  {
   "cell_type": "code",
   "execution_count": 368,
   "metadata": {
    "collapsed": false
   },
   "outputs": [
    {
     "data": {
      "text/plain": [
       "417.91360472412623"
      ]
     },
     "execution_count": 368,
     "metadata": {},
     "output_type": "execute_result"
    }
   ],
   "source": [
    "left_intercept = left_model.params[0]\n",
    "left_intercept"
   ]
  },
  {
   "cell_type": "markdown",
   "metadata": {},
   "source": [
    "The zero intercept of the left regression is 417.9."
   ]
  },
  {
   "cell_type": "markdown",
   "metadata": {},
   "source": [
    "The difference between zero intercepts of the right and left regression estimates the effect of the discontinuity."
   ]
  },
  {
   "cell_type": "code",
   "execution_count": 369,
   "metadata": {
    "collapsed": false
   },
   "outputs": [
    {
     "data": {
      "text/plain": [
       "38.890905536693253"
      ]
     },
     "execution_count": 369,
     "metadata": {},
     "output_type": "execute_result"
    }
   ],
   "source": [
    "right_intercept - left_intercept"
   ]
  },
  {
   "cell_type": "markdown",
   "metadata": {},
   "source": [
    "The difference between the two intercepts is about 38.9."
   ]
  },
  {
   "cell_type": "markdown",
   "metadata": {},
   "source": [
    "I plot the data and the two regressions below to illustrate the two models:"
   ]
  },
  {
   "cell_type": "code",
   "execution_count": 370,
   "metadata": {
    "collapsed": false
   },
   "outputs": [
    {
     "data": {
      "text/plain": [
       "<matplotlib.text.Text at 0x117690790>"
      ]
     },
     "execution_count": 370,
     "metadata": {},
     "output_type": "execute_result"
    },
    {
     "data": {
      "image/png": "[encoded data removed]",
      "text/plain": [
       "<matplotlib.figure.Figure at 0x1175b7350>"
      ]
     },
     "metadata": {},
     "output_type": "display_data"
    }
   ],
   "source": [
    "right_line = right_model.params[0] + right_days*right_model.params[1]\n",
    "left_line = left_model.params[0] + left_days*left_model.params[1]\n",
    "\n",
    "plt.plot(left_days, worked, 'o', alpha=0.5, label='Data')\n",
    "plt.plot(right_days, days_worked, 'o', alpha=0.5, label='Data')\n",
    "plt.plot(left_days, left_line, 'b', linewidth=2)\n",
    "plt.plot(right_days, right_line, 'b', linewidth=2)\n",
    "plt.xlabel('Day of the month')\n",
    "plt.ylabel('Days worked')\n",
    "plt.title('Left and Right regressions')"
   ]
  }
 ],
 "metadata": {
  "kernelspec": {
   "display_name": "Python 2",
   "language": "python",
   "name": "python2"
  },
  "language_info": {
   "codemirror_mode": {
    "name": "ipython",
    "version": 2
   },
   "file_extension": ".py",
   "mimetype": "text/x-python",
   "name": "python",
   "nbconvert_exporter": "python",
   "pygments_lexer": "ipython2",
   "version": "2.7.10"
  }
 },
 "nbformat": 4,
 "nbformat_minor": 1
}
