{
 "cells": [
  {
   "cell_type": "markdown",
   "metadata": {},
   "source": [
    "# Homework 6, Alex Pine (akp258@nyu.edu)"
   ]
  },
  {
   "cell_type": "code",
   "execution_count": 2,
   "metadata": {
    "collapsed": false
   },
   "outputs": [],
   "source": [
    "import pandas\n",
    "\n",
    "filename = '/Users/pinesol/causal/hw6/late.csv'\n",
    "df = pandas.read_csv(filename)"
   ]
  },
  {
   "cell_type": "markdown",
   "metadata": {},
   "source": [
    "### Problem 1.i: Compute $\\delta_{IV}$"
   ]
  },
  {
   "cell_type": "code",
   "execution_count": 54,
   "metadata": {
    "collapsed": false
   },
   "outputs": [
    {
     "name": "stdout",
     "output_type": "stream",
     "text": [
      "1.93517078741\n"
     ]
    }
   ],
   "source": [
    "import numpy as np\n",
    "\n",
    "delta_iv = (np.cov(df['Y'], df['Z'], bias=True)[0][1] / \n",
    "            np.cov(df['D'], df['Z'], bias=True)[0][1])\n",
    "print delta_iv"
   ]
  },
  {
   "cell_type": "markdown",
   "metadata": {},
   "source": [
    "$\\delta_{IV}$ equals 1.94."
   ]
  },
  {
   "cell_type": "markdown",
   "metadata": {},
   "source": [
    "### Problem 1.ii: Find $P_A$, $P_N$, and $P_C$.\n",
    "\n",
    "$$ P_A = E[D^* \\mid Z = 0]$$"
   ]
  },
  {
   "cell_type": "code",
   "execution_count": 25,
   "metadata": {
    "collapsed": false
   },
   "outputs": [
    {
     "data": {
      "text/plain": [
       "0.31320504313205044"
      ]
     },
     "execution_count": 25,
     "metadata": {},
     "output_type": "execute_result"
    }
   ],
   "source": [
    "p_always = np.mean(df[df['Z'] == 0]['D'])\n",
    "p_always"
   ]
  },
  {
   "cell_type": "markdown",
   "metadata": {},
   "source": [
    "The probability of being an always-taker is 0.31."
   ]
  },
  {
   "cell_type": "markdown",
   "metadata": {},
   "source": [
    "$$P_N = 1 - E[D^* \\mid Z = 1]$$"
   ]
  },
  {
   "cell_type": "code",
   "execution_count": 26,
   "metadata": {
    "collapsed": false
   },
   "outputs": [
    {
     "data": {
      "text/plain": [
       "0.32558139534883723"
      ]
     },
     "execution_count": 26,
     "metadata": {},
     "output_type": "execute_result"
    }
   ],
   "source": [
    "p_never = 1 - np.mean(df[df['Z'] == 1]['D'])\n",
    "p_never"
   ]
  },
  {
   "cell_type": "markdown",
   "metadata": {},
   "source": [
    "The probability of being an never-taker is 0.33."
   ]
  },
  {
   "cell_type": "markdown",
   "metadata": {},
   "source": [
    "$$P_C = 1 - P_A - P_N$$"
   ]
  },
  {
   "cell_type": "code",
   "execution_count": 28,
   "metadata": {
    "collapsed": false
   },
   "outputs": [
    {
     "data": {
      "text/plain": [
       "0.36121356151911233"
      ]
     },
     "execution_count": 28,
     "metadata": {},
     "output_type": "execute_result"
    }
   ],
   "source": [
    "p_complier = 1 - p_always - p_never\n",
    "p_complier"
   ]
  },
  {
   "cell_type": "markdown",
   "metadata": {},
   "source": [
    "The probability of being a compiler is 0.36."
   ]
  },
  {
   "cell_type": "markdown",
   "metadata": {},
   "source": [
    "### Problem 1.iii: Find $E[Y^1 \\mid A]$ and $E[Y^0 \\mid N]$"
   ]
  },
  {
   "cell_type": "markdown",
   "metadata": {},
   "source": [
    "$$ E[Y^1 \\mid A] = E[Y^* \\mid Z = 0, D = 1] $$"
   ]
  },
  {
   "cell_type": "code",
   "execution_count": 50,
   "metadata": {
    "collapsed": false
   },
   "outputs": [
    {
     "data": {
      "text/plain": [
       "103.0957631107627"
      ]
     },
     "execution_count": 50,
     "metadata": {},
     "output_type": "execute_result"
    }
   ],
   "source": [
    "treated_always = np.mean(df[(df['Z'] == 0) & (df['D'] == 1)]['Y'])\n",
    "treated_always"
   ]
  },
  {
   "cell_type": "markdown",
   "metadata": {},
   "source": [
    "The expected value of $Y^1$ on the always-takers is 103.10."
   ]
  },
  {
   "cell_type": "markdown",
   "metadata": {},
   "source": [
    "$$ E[Y^0 \\mid N] = E[Y^* \\mid Z = 1, D = 0] $$"
   ]
  },
  {
   "cell_type": "code",
   "execution_count": 49,
   "metadata": {
    "collapsed": false
   },
   "outputs": [
    {
     "data": {
      "text/plain": [
       "98.84696178636905"
      ]
     },
     "execution_count": 49,
     "metadata": {},
     "output_type": "execute_result"
    }
   ],
   "source": [
    "untreated_never = np.mean(df[(df['Z'] == 1) & (df['D'] == 0)]['Y'])\n",
    "untreated_never"
   ]
  },
  {
   "cell_type": "markdown",
   "metadata": {},
   "source": [
    "The expected value of $Y^0$ on the never-takers is 98.85."
   ]
  },
  {
   "cell_type": "markdown",
   "metadata": {},
   "source": [
    "### 1.iv: Compute $\\delta_{LATE}$\n",
    "\n",
    "Using the values for $E[Y^1 \\mid C]$ and $E[Y^0 \\mid C]$ from slide 26 of lecture 7."
   ]
  },
  {
   "cell_type": "code",
   "execution_count": 55,
   "metadata": {
    "collapsed": false
   },
   "outputs": [
    {
     "data": {
      "text/plain": [
       "1.9351707874081399"
      ]
     },
     "execution_count": 55,
     "metadata": {},
     "output_type": "execute_result"
    }
   ],
   "source": [
    "## slide 26 formula\n",
    "\n",
    "e_y_z1d1 = np.mean(df[(df['Z'] == 1) & (df['D'] == 1)]['Y'])\n",
    "\n",
    "treated_comps = e_y_z1d1 + (p_always/p_complier)*(e_y_z1d1-treated_always)\n",
    "e_y_z0d0 = np.mean(df[(df['Z'] == 0) & (df['D'] == 0)]['Y'])\n",
    "untreated_comps = e_y_z0d0 + (p_never/p_complier)*(e_y_z0d0-untreated_never)\n",
    "\n",
    "late = treated_comps - untreated_comps\n",
    "late"
   ]
  },
  {
   "cell_type": "markdown",
   "metadata": {},
   "source": [
    "The local average treatment effect is 1.94."
   ]
  },
  {
   "cell_type": "markdown",
   "metadata": {},
   "source": [
    "The linear IV estimator for the average treatment effect is nearly the exact same as that of the local average treatment effect. "
   ]
  }
 ],
 "metadata": {
  "kernelspec": {
   "display_name": "Python 2",
   "language": "python",
   "name": "python2"
  },
  "language_info": {
   "codemirror_mode": {
    "name": "ipython",
    "version": 2
   },
   "file_extension": ".py",
   "mimetype": "text/x-python",
   "name": "python",
   "nbconvert_exporter": "python",
   "pygments_lexer": "ipython2",
   "version": "2.7.10"
  }
 },
 "nbformat": 4,
 "nbformat_minor": 1
}
